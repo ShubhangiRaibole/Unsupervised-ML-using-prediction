{
 "cells": [
  {
   "cell_type": "code",
   "execution_count": 11,
   "metadata": {},
   "outputs": [],
   "source": [
    "# Question 1) Betty has K number of chocolates, that she wants to set up on stairs, , where\n",
    "# every j-th stair must have exactly j chocolates.\n",
    "# ⁠\n",
    "# Given K, find the total number of full steps that can be formed.\n",
    "# \n",
    "# K is a non-negative integer and fits within the range of a 32-bit signed\n",
    "# integer.\n",
    "\n",
    "# Example 1:\n",
    "# \n",
    "# K = 7\n",
    "# \n",
    "# The chocolates can form the following rows:\n",
    "# *\n",
    "# * *\n",
    "# * * *\n",
    "# *\n",
    "# So as per above, 4th row is not complete, function must return 3."
   ]
  },
  {
   "cell_type": "code",
   "execution_count": 9,
   "metadata": {},
   "outputs": [],
   "source": [
    "# Question 2)\n",
    "# Suppose John has K coins of 1 different values each given in an array (arr), He has\n",
    "# a target amount that he needs to pay. Find 3 such coins in array that would add \n",
    "# up to be closest to the amount he needs to pay. Return the sum of those 3 coins.\n",
    "# Assume that each input will have just 1 solution .\n",
    "\n",
    "# Example:\n",
    "# \n",
    "# \n",
    "# Given array arr = [-1, 2, 1, -4], and target = 1.\n",
    "# \n",
    "# The sum that is closest to the target is 2. (-1 + 2 + 1 = 2)\n",
    "# Functions would take input of arr and target"
   ]
  },
  {
   "cell_type": "code",
   "execution_count": 16,
   "metadata": {},
   "outputs": [],
   "source": [
    "# Question 3)\n",
    "# Steffany goes out to buy stuff from grocery store, there are 2 type of queues , first type has a single line\n",
    "# with N people standing in line and just 1 billing counter. Second type is having 3 billing counters for N\n",
    "# customers waiting i.e 3 customers can parallely go to any 1 of those 3 billing counters whichever is vacant. \n",
    "# Mean time for both of the above type of queues is exactly same. \n",
    "# Which type of queue shall Steffany choose and provide the reason why. "
   ]
  },
  {
   "cell_type": "code",
   "execution_count": 17,
   "metadata": {},
   "outputs": [],
   "source": [
    "# Question 4)\n",
    "# Probability\n",
    "# Paintballs with colors namely G1 to G20 are placed in a bag. Three Paintballs are drawn out of the bag without \n",
    "# replacement. What is the probability that all the colors number ending with odd \n",
    "# (G1 is odd, G2 is even)?"
   ]
  },
  {
   "cell_type": "code",
   "execution_count": null,
   "metadata": {},
   "outputs": [],
   "source": [
    "## QUESTION 5) \n",
    "# You are given N gifts indexed from 1 to N. \n",
    "# Each gift wrap contains either no coins or one coin. \n",
    "# The number of empty gifts and the number of gifts with one coin are denoted by n0 and n1, respectively. \n",
    "# You take a random subset of the gifts where each subset has the same same probability to be selected. \n",
    "# The empty set and the set itself are considered a subset. \n",
    "\n",
    "# Given n0 and n1, what is the probability that the total number of coins in the random subset is even?\n",
    "\n",
    "# ### Constraint:\n",
    "# N = n0 + n1 < 100000\n",
    "\n",
    "# ### EXAMPLES\n",
    "\n",
    "# #### 1\n",
    "# - Input: n0 = 1, n1 = 0\n",
    "# - Output: 1.0\n",
    "# - Explanation: There are two subsets: [] and [0]. Both of them have an even sum.\n",
    "\n",
    "# #### 2\n",
    "# - Input: n0 = 0, n1 = 2\n",
    "# - Output: 0.5\n",
    "# - Explanation: There are four subsets: [], [1], [1], and [1, 1]. The sum of [] and [1,1] is even.\n"
   ]
  },
  {
   "cell_type": "code",
   "execution_count": 1,
   "metadata": {},
   "outputs": [],
   "source": [
    "# Question 6 )\n",
    "# Given pandas df with single column : Email address\n",
    "# Write a function validate_mail_id which inputs this df as input and returns another df_new with a new column: \"Valid?\"\n",
    "# This column will have only 2 values : Yes or No\n",
    "# If the mail id is valid, value in row should be Yes otherwise No.\n",
    "# Few examples are given below where Yes /  No need to be returned.\n",
    "# abhishek246@gmail.com : Yes\n",
    "# john.painter@mailer.org : No\n",
    "# Neo326.com: No\n",
    "# PLEASE FOLLOW BELOW RULE TO VALIDATE MAIL ID\n",
    "# An email is a string (a subset of ASCII characters) separated into two parts by @ symbol, \n",
    "# a “personal_info” and a domain, that is personal_info@domain.\n",
    "# personal_info can only be in range (0-9, a-z and A-Z)"
   ]
  },
  {
   "cell_type": "code",
   "execution_count": null,
   "metadata": {},
   "outputs": [],
   "source": []
  }
 ],
 "metadata": {
  "kernelspec": {
   "display_name": "Python 3",
   "language": "python",
   "name": "python3"
  },
  "language_info": {
   "codemirror_mode": {
    "name": "ipython",
    "version": 3
   },
   "file_extension": ".py",
   "mimetype": "text/x-python",
   "name": "python",
   "nbconvert_exporter": "python",
   "pygments_lexer": "ipython3",
   "version": "3.7.3"
  }
 },
 "nbformat": 4,
 "nbformat_minor": 2
}
